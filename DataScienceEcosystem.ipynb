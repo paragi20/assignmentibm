{
 "cells": [
  {
   "cell_type": "markdown",
   "id": "d1d3cb84-d80a-414b-bd51-d3480c6e4ce6",
   "metadata": {},
   "source": [
    "# Data Science Tools and Ecosystem"
   ]
  },
  {
   "cell_type": "markdown",
   "id": "95ec2bcd-d348-4a9d-935d-3912a1f1a6d6",
   "metadata": {},
   "source": [
    "Introduction about this notebook-\n",
    "In this notebook, Data Science Tools and Ecosystem are summarized."
   ]
  },
  {
   "cell_type": "markdown",
   "id": "8ef86d02-3d55-4189-a973-86bf3ae62014",
   "metadata": {},
   "source": [
    "**Objectives:**\n",
    "(Major things we learned in this notebook)\n",
    "- Some popular languages for Data Science\n",
    "- some common libraries used by Data Scientists\n",
    "- Tools used by Data Scientists\n",
    "- Arithematic Expressions"
   ]
  },
  {
   "cell_type": "markdown",
   "id": "66690edf-a4cb-4184-bb7f-b68a6d7631ee",
   "metadata": {},
   "source": [
    "Some of the popular languages that Data Scientists use are:\n",
    "\n",
    "1. Python\n",
    "2. R\n",
    "3. Julia\n"
   ]
  },
  {
   "cell_type": "markdown",
   "id": "311203b6-4096-4b95-83d5-15ebc4a3b90b",
   "metadata": {},
   "source": [
    "Some of the commonly used libraries used by Data Scientists include:\n",
    "1. TensorFlow\n",
    "2. Pytorch\n",
    "3. SciPy\n",
    "4. Pandas\n",
    "5. Matplotlib\n"
   ]
  },
  {
   "cell_type": "markdown",
   "id": "9a111444-26ab-43d8-a476-a3e901b72c49",
   "metadata": {},
   "source": [
    "table of Data Science tools"
   ]
  },
  {
   "cell_type": "markdown",
   "id": "15237431-f19c-4d18-b305-62b7182f870a",
   "metadata": {},
   "source": [
    "| Data Science Tools |\n",
    "| --- |\n",
    "| R-Studio | \n",
    "| Apache Spark |\n",
    "| TensorFlow |"
   ]
  },
  {
   "cell_type": "markdown",
   "id": "7e31654b-7c06-43f7-8afa-2718fd746e77",
   "metadata": {},
   "source": [
    "### Below are a few examples of evaluating arithmetic expressions in Python\n",
    "\n",
    "Evaluation of Arithmetic Expressions - Arithmetic expressions return numeric values. For example: 3 0 / 6 30 / 6 30/6. Evaluation of Relational Expressions - Relational expressions is used to compare two operands. For example: ( a + b ) > = ( c ∗ d ) (a + b) >= (c * d) (a+b)>=(c∗d)."
   ]
  },
  {
   "cell_type": "code",
   "execution_count": 1,
   "id": "ade5461f-624a-455e-8633-3deb36995038",
   "metadata": {
    "tags": []
   },
   "outputs": [
    {
     "data": {
      "text/plain": [
       "17"
      ]
     },
     "execution_count": 1,
     "metadata": {},
     "output_type": "execute_result"
    }
   ],
   "source": [
    "#This a simple arithmetic expression to mutiply then add integers\n",
    "(3*4)+5"
   ]
  },
  {
   "cell_type": "code",
   "execution_count": 4,
   "id": "f247b8f6-e42e-4b0e-be91-473de86c3908",
   "metadata": {
    "tags": []
   },
   "outputs": [
    {
     "name": "stdout",
     "output_type": "stream",
     "text": [
      "3.3333333333333335\n"
     ]
    }
   ],
   "source": [
    "#This will convert 200 minutes to hours by diving by 60\n",
    "minutes=200\n",
    "hours=minutes/60\n",
    "print(hours)"
   ]
  },
  {
   "cell_type": "markdown",
   "id": "b6f224c6-0457-40cb-b3cf-a1b37bffa4b6",
   "metadata": {},
   "source": [
    "## Author\n",
    "Paragi Chauhan"
   ]
  },
  {
   "cell_type": "code",
   "execution_count": null,
   "id": "607349dc-c6a7-44d4-aa45-468ce9430115",
   "metadata": {},
   "outputs": [],
   "source": []
  }
 ],
 "metadata": {
  "kernelspec": {
   "display_name": "Python",
   "language": "python",
   "name": "conda-env-python-py"
  },
  "language_info": {
   "codemirror_mode": {
    "name": "ipython",
    "version": 3
   },
   "file_extension": ".py",
   "mimetype": "text/x-python",
   "name": "python",
   "nbconvert_exporter": "python",
   "pygments_lexer": "ipython3",
   "version": "3.7.12"
  }
 },
 "nbformat": 4,
 "nbformat_minor": 5
}
